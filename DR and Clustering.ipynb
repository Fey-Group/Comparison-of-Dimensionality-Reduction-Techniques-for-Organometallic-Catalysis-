{
 "cells": [
  {
   "cell_type": "markdown",
   "id": "5021732c",
   "metadata": {},
   "source": [
    "# Performing Dimensionality Reduction"
   ]
  },
  {
   "cell_type": "markdown",
   "id": "df1d0e24",
   "metadata": {},
   "source": [
    "### Code"
   ]
  },
  {
   "cell_type": "code",
   "execution_count": 1,
   "id": "3d0d57ea",
   "metadata": {},
   "outputs": [
    {
     "name": "stderr",
     "output_type": "stream",
     "text": [
      "C:\\Users\\rn22569\\.conda\\envs\\book-env\\lib\\site-packages\\tqdm\\auto.py:22: TqdmWarning: IProgress not found. Please update jupyter and ipywidgets. See https://ipywidgets.readthedocs.io/en/stable/user_install.html\n",
      "  from .autonotebook import tqdm as notebook_tqdm\n"
     ]
    }
   ],
   "source": [
    "import pandas as pd\n",
    "import matplotlib.pyplot as plt\n",
    "import seaborn as sns\n",
    "import umap\n",
    "import sklearn.cluster as cluster\n",
    "import numpy as np\n",
    "import math\n",
    "\n",
    "import matplotlib.cm as cm\n",
    "import matplotlib\n",
    "from matplotlib.widgets import Cursor\n",
    "import mplcursors\n",
    "from mpl_toolkits.mplot3d import Axes3D\n",
    "import seaborn as sns\n",
    "import matplotlib.patches as mpatches\n",
    "\n",
    "from sklearn.cluster import KMeans, AgglomerativeClustering\n",
    "from sklearn.preprocessing import StandardScaler\n",
    "from sklearn.decomposition import PCA\n",
    "from sklearn.manifold import TSNE\n",
    "from sklearn.metrics import silhouette_score\n",
    "from scipy.cluster.hierarchy import linkage, dendrogram\n",
    "\n",
    "from sklearn.multioutput import MultiOutputRegressor\n",
    "\n",
    "LKB = pd.read_excel (r'DR_Comparison.xlsx',\n",
    "                    sheet_name='LKBPP screen dataset')\n",
    "\n",
    "descriptors = ['homo', 'lumo', 'pa', 'homo2', 'lumo2', 'pa2', 'he.w.pn', 'nhe', 'be.gla', 'ml.gla', 'dmd.gla', 'd.d1rgla', 'd.d2rgla', 'drd1rgla', \n",
    "               'drd2rgla', 'nbo.glaf', 'be.pd', 'ml.pd', 'dmd.pd', 'd.d1r.pd', 'd.d2r.pd', 'd.rd1rpd', 'd.rd2rpd', 'nbo.pd.f', 'dppd.d1', 'dppd.d2', \n",
    "               'dpzn.d1', 'dpzn.d2']"
   ]
  },
  {
   "cell_type": "code",
   "execution_count": 2,
   "id": "2d4a2171",
   "metadata": {},
   "outputs": [],
   "source": [
    "# Scale the data\n",
    "scaler = StandardScaler()\n",
    "data_std = scaler.fit_transform(LKB[descriptors])"
   ]
  },
  {
   "cell_type": "code",
   "execution_count": 3,
   "id": "0f60b8ec",
   "metadata": {},
   "outputs": [
    {
     "name": "stderr",
     "output_type": "stream",
     "text": [
      "C:\\Users\\rn22569\\.conda\\envs\\book-env\\lib\\site-packages\\sklearn\\manifold\\_t_sne.py:783: FutureWarning: The default initialization in TSNE will change from 'random' to 'pca' in 1.2.\n",
      "  FutureWarning,\n"
     ]
    }
   ],
   "source": [
    "#Definition of each dimensionality reduction technique (it take a while to run because of tsne)\n",
    "pca = PCA(n_components=7).fit_transform(data_std)\n",
    "pca_df_scale = pd.DataFrame(pca, columns=['PC1', 'PC2', 'PC3','PC4', 'PC5', 'PC6', 'PC7'])\n",
    "\n",
    "tsne = TSNE(n_components=10, verbose=0, perplexity=12, n_iter=5000, learning_rate=\"auto\", method='exact', random_state=42).fit_transform(data_std)\n",
    "tsne_df_scale = pd.DataFrame(tsne, columns=['tsne1', 'tsne2', 'tsne3','tsne4', 'tsne5', 'tsne6', 'tsne7', 'tsne8', 'tsne9', 'tsne10'])\n",
    "\n",
    "umap = umap.UMAP(n_neighbors=15,min_dist=0.5,n_components=10,random_state=42).fit_transform(data_std)\n",
    "umap_df_scale = pd.DataFrame(umap, columns=['umap1', 'umap2', 'umap3', 'umap4', 'umap5', 'umap6', 'umap7', 'umap8', 'umap9', 'umap10'])\n",
    "\n",
    "DRs = {'PCA':{'DRdf': pca_df_scale}, 'tSNE':{'DRdf': tsne_df_scale},\n",
    "       'UMAP':{'DRdf': umap_df_scale}}\n",
    "\n",
    "DRs['PCA']['DRdf']['PC1'] = DRs['PCA']['DRdf']['PC1']*-1"
   ]
  },
  {
   "cell_type": "code",
   "execution_count": 4,
   "id": "76f128f2",
   "metadata": {
    "scrolled": true
   },
   "outputs": [
    {
     "data": {
      "text/html": [
       "<div>\n",
       "<style scoped>\n",
       "    .dataframe tbody tr th:only-of-type {\n",
       "        vertical-align: middle;\n",
       "    }\n",
       "\n",
       "    .dataframe tbody tr th {\n",
       "        vertical-align: top;\n",
       "    }\n",
       "\n",
       "    .dataframe thead th {\n",
       "        text-align: right;\n",
       "    }\n",
       "</style>\n",
       "<table border=\"1\" class=\"dataframe\">\n",
       "  <thead>\n",
       "    <tr style=\"text-align: right;\">\n",
       "      <th></th>\n",
       "      <th>PC1</th>\n",
       "      <th>PC2</th>\n",
       "      <th>PC3</th>\n",
       "    </tr>\n",
       "  </thead>\n",
       "  <tbody>\n",
       "    <tr>\n",
       "      <th>nbo.pd.f</th>\n",
       "      <td>0.331987</td>\n",
       "      <td>-0.013140</td>\n",
       "      <td>0.000458</td>\n",
       "    </tr>\n",
       "    <tr>\n",
       "      <th>be.pd</th>\n",
       "      <td>-0.289376</td>\n",
       "      <td>-0.022994</td>\n",
       "      <td>0.018926</td>\n",
       "    </tr>\n",
       "    <tr>\n",
       "      <th>d.d2r.pd</th>\n",
       "      <td>0.252294</td>\n",
       "      <td>0.096756</td>\n",
       "      <td>0.269805</td>\n",
       "    </tr>\n",
       "    <tr>\n",
       "      <th>nhe</th>\n",
       "      <td>0.144620</td>\n",
       "      <td>0.290118</td>\n",
       "      <td>0.070537</td>\n",
       "    </tr>\n",
       "    <tr>\n",
       "      <th>dmd.gla</th>\n",
       "      <td>0.136769</td>\n",
       "      <td>0.278354</td>\n",
       "      <td>-0.107875</td>\n",
       "    </tr>\n",
       "    <tr>\n",
       "      <th>dppd.d1</th>\n",
       "      <td>0.179927</td>\n",
       "      <td>0.276860</td>\n",
       "      <td>-0.038435</td>\n",
       "    </tr>\n",
       "    <tr>\n",
       "      <th>drd1rgla</th>\n",
       "      <td>-0.042124</td>\n",
       "      <td>-0.028222</td>\n",
       "      <td>0.372106</td>\n",
       "    </tr>\n",
       "    <tr>\n",
       "      <th>d.d2rgla</th>\n",
       "      <td>0.198004</td>\n",
       "      <td>0.034708</td>\n",
       "      <td>0.333314</td>\n",
       "    </tr>\n",
       "    <tr>\n",
       "      <th>d.rd1rpd</th>\n",
       "      <td>-0.083706</td>\n",
       "      <td>-0.206554</td>\n",
       "      <td>0.326908</td>\n",
       "    </tr>\n",
       "  </tbody>\n",
       "</table>\n",
       "</div>"
      ],
      "text/plain": [
       "               PC1       PC2       PC3\n",
       "nbo.pd.f  0.331987 -0.013140  0.000458\n",
       "be.pd    -0.289376 -0.022994  0.018926\n",
       "d.d2r.pd  0.252294  0.096756  0.269805\n",
       "nhe       0.144620  0.290118  0.070537\n",
       "dmd.gla   0.136769  0.278354 -0.107875\n",
       "dppd.d1   0.179927  0.276860 -0.038435\n",
       "drd1rgla -0.042124 -0.028222  0.372106\n",
       "d.d2rgla  0.198004  0.034708  0.333314\n",
       "d.rd1rpd -0.083706 -0.206554  0.326908"
      ]
     },
     "execution_count": 4,
     "metadata": {},
     "output_type": "execute_result"
    }
   ],
   "source": [
    "pca_test = PCA(n_components=7)\n",
    "pca_test.fit_transform(data_std)\n",
    "pca_test.explained_variance_ #ratio_\n",
    "df = pd.DataFrame(pca_test.components_, \n",
    "              index=['PC1', 'PC2', 'PC3','PC4', 'PC5', 'PC6', 'PC7'], \n",
    "              columns=descriptors)\n",
    "\n",
    "PCs_to_lookat = ['PC1', 'PC2', 'PC3']\n",
    "descr_list = []\n",
    "for PC in PCs_to_lookat:\n",
    "    pc_descr = abs(df).T.nlargest(3, PC).index.to_list()\n",
    "    descr_list = descr_list + pc_descr\n",
    "\n",
    "df[[c for c in df.columns if c in descr_list]].T[PCs_to_lookat].reindex(descr_list)"
   ]
  },
  {
   "cell_type": "code",
   "execution_count": 5,
   "id": "a346f7c9",
   "metadata": {},
   "outputs": [],
   "source": [
    "#Definition of k means clustering for the selected DR:\n",
    "def kmeans(k,DR_df_scale):\n",
    "    \"\"\"input: k = the number of clusters\n",
    "              Dr_df_scale = the selected DR technique\n",
    "       the function: performs k means and provide the silhouette coefficient for the selected DR technique\n",
    "       output: silhouette coefficient\"\"\"\n",
    "    kmeans_DR_scale = KMeans(n_clusters=k, n_init=100, max_iter=400, init='k-means++', random_state=42).fit(DR_df_scale)\n",
    "    kmeans_scaled_Silhouette_Score = silhouette_score(DR_df_scale, kmeans_DR_scale.labels_, metric='euclidean')\n",
    "    kmeans_labels = kmeans_DR_scale.labels_\n",
    "    #clusters_DR_scale = pd.concat([DR_df_scale, pd.DataFrame({'DR_clusters':kmeans_labels})], axis=1)\n",
    "    return kmeans_scaled_Silhouette_Score, kmeans_labels\n",
    "\n",
    "# This doesn't return the sihloette score"
   ]
  },
  {
   "cell_type": "code",
   "execution_count": 6,
   "id": "63b53d6f",
   "metadata": {},
   "outputs": [],
   "source": [
    "#Definition of hierarchical clustering for the selected DR: \n",
    "def hierarchical(n,DR_df_scale):\n",
    "    cluster_hie = AgglomerativeClustering(n_clusters=n, affinity='euclidean', linkage='ward')\n",
    "    cluster_hie.fit_predict(DR_df_scale)\n",
    "    #hierarchical_labels=cluster_hie.labels_\n",
    "    hierarchical_scaled_Silhouette_Score = silhouette_score(DR_df_scale, cluster_hie.labels_, metric='euclidean')\n",
    "    hierarchical_labels=cluster_hie.labels_\n",
    "    return hierarchical_scaled_Silhouette_Score, hierarchical_labels"
   ]
  },
  {
   "cell_type": "code",
   "execution_count": 7,
   "id": "b8d2c91a",
   "metadata": {},
   "outputs": [],
   "source": [
    "for DR in DRs:\n",
    "    for k in range(2,7):\n",
    "        \n",
    "        df_ = DRs[DR]['DRdf']\n",
    "        \n",
    "        kmeans_silhouette, kmeans_labels = kmeans(k,df_)\n",
    "        hierarchical_silhouette, hierarchical_labels = hierarchical(k,df_)\n",
    "        \n",
    "        km_str_name_s = DR + \"_kmeans_\" + str(k) + \"_silhouette\"\n",
    "        h_str_name_s = DR + \"_hierarchical_\" + str(k) + \"_silhouette\"\n",
    "        km_str_name_l = DR + \"_kmeans_\" + str(k) + \"_labels\"\n",
    "        h_str_name_l = DR + \"_hierarchical_\" + str(k) + \"_labels\"\n",
    "        \n",
    "        DRs[DR][km_str_name_s] = kmeans_silhouette\n",
    "        DRs[DR][h_str_name_s] = hierarchical_silhouette\n",
    "        DRs[DR][km_str_name_l] = kmeans_labels\n",
    "        DRs[DR][h_str_name_l] = hierarchical_labels"
   ]
  },
  {
   "cell_type": "code",
   "execution_count": 8,
   "id": "3abe8f26",
   "metadata": {},
   "outputs": [
    {
     "data": {
      "text/html": [
       "<div>\n",
       "<style scoped>\n",
       "    .dataframe tbody tr th:only-of-type {\n",
       "        vertical-align: middle;\n",
       "    }\n",
       "\n",
       "    .dataframe tbody tr th {\n",
       "        vertical-align: top;\n",
       "    }\n",
       "\n",
       "    .dataframe thead th {\n",
       "        text-align: right;\n",
       "    }\n",
       "</style>\n",
       "<table border=\"1\" class=\"dataframe\">\n",
       "  <thead>\n",
       "    <tr style=\"text-align: right;\">\n",
       "      <th></th>\n",
       "      <th>PCA</th>\n",
       "      <th>tSNE</th>\n",
       "      <th>UMAP</th>\n",
       "    </tr>\n",
       "  </thead>\n",
       "  <tbody>\n",
       "    <tr>\n",
       "      <th>kmeans 6</th>\n",
       "      <td>0.25</td>\n",
       "      <td>0.17</td>\n",
       "      <td>0.39</td>\n",
       "    </tr>\n",
       "    <tr>\n",
       "      <th>hierarchical 6</th>\n",
       "      <td>0.22</td>\n",
       "      <td>0.15</td>\n",
       "      <td>0.37</td>\n",
       "    </tr>\n",
       "    <tr>\n",
       "      <th>kmeans 3</th>\n",
       "      <td>0.29</td>\n",
       "      <td>0.20</td>\n",
       "      <td>0.41</td>\n",
       "    </tr>\n",
       "    <tr>\n",
       "      <th>hierarchical 3</th>\n",
       "      <td>0.24</td>\n",
       "      <td>0.16</td>\n",
       "      <td>0.38</td>\n",
       "    </tr>\n",
       "  </tbody>\n",
       "</table>\n",
       "</div>"
      ],
      "text/plain": [
       "                 PCA  tSNE  UMAP\n",
       "kmeans 6        0.25  0.17  0.39\n",
       "hierarchical 6  0.22  0.15  0.37\n",
       "kmeans 3        0.29  0.20  0.41\n",
       "hierarchical 3  0.24  0.16  0.38"
      ]
     },
     "execution_count": 8,
     "metadata": {},
     "output_type": "execute_result"
    }
   ],
   "source": [
    "df_silhouette = pd.DataFrame(columns=['PCA', 'tSNE', 'UMAP'], \n",
    "                           index=['kmeans 6', 'hierarchical 6', 'kmeans 3', 'hierarchical 3'])\n",
    "\n",
    "for DR in DRs:\n",
    "    k=6\n",
    "    kmeans_silhouette_6 = DRs[DR][DR + \"_kmeans_\" + str(k) + \"_silhouette\"]\n",
    "    hierarchical_silhouette_6 = DRs[DR][DR + \"_hierarchical_\" + str(k) + \"_silhouette\"]\n",
    "\n",
    "    k=3\n",
    "    kmeans_silhouette_3 = DRs[DR][DR + \"_kmeans_\" + str(k) + \"_silhouette\"]\n",
    "    hierarchical_silhouette_3 = DRs[DR][DR + \"_hierarchical_\" + str(k) + \"_silhouette\"]\n",
    "    \n",
    "    df_silhouette[DR] = [kmeans_silhouette_6, hierarchical_silhouette_6,\n",
    "              kmeans_silhouette_3, hierarchical_silhouette_3]\n",
    "\n",
    "df_silhouette.round(2)"
   ]
  },
  {
   "cell_type": "code",
   "execution_count": null,
   "id": "4416ddc1",
   "metadata": {},
   "outputs": [],
   "source": []
  }
 ],
 "metadata": {
  "kernelspec": {
   "display_name": "Python 3 (ipykernel)",
   "language": "python",
   "name": "python3"
  },
  "language_info": {
   "codemirror_mode": {
    "name": "ipython",
    "version": 3
   },
   "file_extension": ".py",
   "mimetype": "text/x-python",
   "name": "python",
   "nbconvert_exporter": "python",
   "pygments_lexer": "ipython3",
   "version": "3.7.1"
  }
 },
 "nbformat": 4,
 "nbformat_minor": 5
}
